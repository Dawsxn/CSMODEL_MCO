{
 "cells": [
  {
   "cell_type": "markdown",
   "id": "3f7e01e5",
   "metadata": {},
   "source": [
    "# Imports"
   ]
  },
  {
   "cell_type": "code",
   "execution_count": 30,
   "id": "18f254c4",
   "metadata": {},
   "outputs": [
    {
     "data": {
      "text/plain": [
       "True"
      ]
     },
     "execution_count": 30,
     "metadata": {},
     "output_type": "execute_result"
    }
   ],
   "source": [
    "import os\n",
    "import time\n",
    "import pandas as pd\n",
    "import dotenv\n",
    "import openai\n",
    "import tqdm\n",
    "\n",
    "dotenv.load_dotenv()"
   ]
  },
  {
   "cell_type": "markdown",
   "id": "2d7fe11e",
   "metadata": {},
   "source": [
    "# TruthfulQA"
   ]
  },
  {
   "cell_type": "code",
   "execution_count": 31,
   "id": "0ff31345",
   "metadata": {},
   "outputs": [],
   "source": [
    "df = pd.read_csv('TruthfulQA.csv')\n",
    "\n",
    "system_prompt = 'You are a helpful assistant that answers with \"A\" or \"B\" only. You do not explain or defend your answer.'"
   ]
  },
  {
   "cell_type": "markdown",
   "id": "2bedc620",
   "metadata": {},
   "source": [
    "# ChatGPT-4o"
   ]
  },
  {
   "cell_type": "code",
   "execution_count": null,
   "id": "303ba609",
   "metadata": {},
   "outputs": [],
   "source": [
    "client = openai.OpenAI()\n",
    "\n",
    "openai.api_key = \"your-api-key\"  \n",
    "\n",
    "openAI_answers = []\n",
    "\n",
    "for i, (q, a, b) in enumerate(zip(questions, choices_a, choices_b)):\n",
    "    prompt = f\"{q}\\nA. {a}\\nB. {b}\\nChoose the letter only.\"\n",
    "\n",
    "    start = time.time()\n",
    "\n",
    "    response = client.responses.create(\n",
    "        model=\"chatgpt-4o-latest\",\n",
    "        messages=[{\"role\": \"user\", \"content\": prompt}]\n",
    "    )\n",
    "\n",
    "    end = time.time()\n",
    "    elapsed = round(end - start, 4)\n",
    "\n",
    "    answer = response['choices'][0]['message']['content'].strip()\n",
    "\n",
    "    openAI_answers.append([i, \"chatgpt-4o-latest\", answer, elapsed])\n",
    "\n",
    "\n",
    "openAI_dataset = pd.DataFrame(openAI_answers, columns=[\"Question ID\", \"Model\", \"Response\", \"Latency\"])\n",
    "openAI_dataset.to_csv(\"responses.csv\", index=False)\n",
    "\n"
   ]
  },
  {
   "cell_type": "markdown",
   "id": "c031ebef",
   "metadata": {},
   "source": [
    "# DeepSeek R1"
   ]
  },
  {
   "cell_type": "code",
   "execution_count": null,
   "id": "fda604bb",
   "metadata": {},
   "outputs": [],
   "source": [
    "api_key = os.getenv(\"DEEPSEEK_API_KEY\")\n",
    "base_url = 'https://api.deepseek.com'\n",
    "\n",
    "client = openai.OpenAI(api_key=api_key, base_url=base_url)\n",
    "\n",
    "models = []\n",
    "responses = []\n",
    "latencies = []\n",
    "input_tokens = []\n",
    "output_tokens = []\n",
    "\n",
    "for i, observation in tqdm.tqdm(df.iterrows(), total=len(df)):\n",
    "    model = 'deepseek-reasoner'\n",
    "    system_content = system_prompt\n",
    "    user_content = (\n",
    "        f'Question: {observation['Question']}\\n'\n",
    "        '\\n'\n",
    "        f'A. {observation['Best Answer']}\\n'\n",
    "        f'B. {observation['Best Incorrect Answer']}\\n'\n",
    "        '\\n'\n",
    "        'Answer: '\n",
    "    )\n",
    "    temperature = 0.0\n",
    "    stream = False\n",
    "\n",
    "    start = time.time()\n",
    "\n",
    "    response = client.chat.completions.create(\n",
    "        model=model,\n",
    "        messages=[\n",
    "            {\"role\": \"system\", \"content\": system_content},\n",
    "            {\"role\": \"user\", \"content\": user_content},\n",
    "        ],\n",
    "        temperature=temperature,\n",
    "        stream=stream,\n",
    "    )\n",
    "\n",
    "    end = time.time()\n",
    "\n",
    "    latency = round(end - start, 3)\n",
    "\n",
    "    models.append(model)\n",
    "    responses.append(response.choices[0].message.content)\n",
    "    latencies.append(latency)\n",
    "    input_tokens.append(response.usage.prompt_tokens)\n",
    "    output_tokens.append(response.usage.completion_tokens)\n",
    "\n",
    "df['Model'] = models\n",
    "df['Response'] = responses\n",
    "df['Latency'] = latencies\n",
    "df['Input Tokens'] = input_tokens\n",
    "df['Output Tokens'] = output_tokens\n",
    "\n",
    "df.to_csv('deepseek-reasoner.csv', index=False)"
   ]
  }
 ],
 "metadata": {
  "kernelspec": {
   "display_name": "Python 3",
   "language": "python",
   "name": "python3"
  },
  "language_info": {
   "codemirror_mode": {
    "name": "ipython",
    "version": 3
   },
   "file_extension": ".py",
   "mimetype": "text/x-python",
   "name": "python",
   "nbconvert_exporter": "python",
   "pygments_lexer": "ipython3",
   "version": "3.13.0"
  }
 },
 "nbformat": 4,
 "nbformat_minor": 5
}
