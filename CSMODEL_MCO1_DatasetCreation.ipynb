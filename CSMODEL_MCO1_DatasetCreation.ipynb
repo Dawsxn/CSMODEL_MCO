{
 "cells": [
  {
   "cell_type": "markdown",
   "id": "e6f3e922",
   "metadata": {},
   "source": [
    "# Import necessary libraries"
   ]
  },
  {
   "cell_type": "code",
   "execution_count": null,
   "id": "18f254c4",
   "metadata": {},
   "outputs": [],
   "source": [
    "import pandas as pd\n",
    "import numpy as np"
   ]
  },
  {
   "cell_type": "markdown",
   "id": "2d7fe11e",
   "metadata": {},
   "source": [
    "# Get initial dataset"
   ]
  },
  {
   "cell_type": "code",
   "execution_count": null,
   "id": "0ff31345",
   "metadata": {},
   "outputs": [],
   "source": [
    "initial_dataset = pd.read_csv('TruthfulQA.csv')\n",
    "initial_dataset"
   ]
  },
  {
   "cell_type": "markdown",
   "id": "87619d96",
   "metadata": {},
   "source": [
    "# Get questions, choices for A, and choices for B as individual series"
   ]
  },
  {
   "cell_type": "code",
   "execution_count": null,
   "id": "6c5d9a05",
   "metadata": {},
   "outputs": [],
   "source": [
    "questions = initial_dataset['Question']\n",
    "questions"
   ]
  },
  {
   "cell_type": "code",
   "execution_count": null,
   "id": "3b1e7bfd",
   "metadata": {},
   "outputs": [],
   "source": [
    "choices_a = initial_dataset['Best Answer']\n",
    "choices_b = initial_dataset['Best Incorrect Answer']"
   ]
  },
  {
   "cell_type": "markdown",
   "id": "2bedc620",
   "metadata": {},
   "source": [
    "# OpenAI (ChatGPT) API Calls"
   ]
  },
  {
   "cell_type": "code",
   "execution_count": null,
   "id": "303ba609",
   "metadata": {},
   "outputs": [],
   "source": [
    "import time\n",
    "from openai import OpenAI\n",
    "client = OpenAI()\n",
    "\n",
    "openai.api_key = \"your-api-key\"  \n",
    "\n",
    "openAI_answers = []\n",
    "\n",
    "for i, (q, a, b) in enumerate(zip(questions, choices_a, choices_b)):\n",
    "    prompt = f\"{q}\\nA. {a}\\nB. {b}\\nChoose the letter only.\"\n",
    "\n",
    "    start = time.time()\n",
    "\n",
    "    response = client.responses.create(\n",
    "        model=\"chatgpt-4o-latest\",\n",
    "        messages=[{\"role\": \"user\", \"content\": prompt}]\n",
    "    )\n",
    "\n",
    "    end = time.time()\n",
    "    elapsed = round(end - start, 4)\n",
    "\n",
    "    answer = response['choices'][0]['message']['content'].strip()\n",
    "\n",
    "    openAI_answers.append([i, \"chatgpt-4o-latest\", answer, elapsed])\n",
    "\n",
    "\n",
    "openAI_dataset = pd.DataFrame(openAI_answers, columns=[\"Question ID\", \"Model\", \"Response\", \"Latency\"])\n",
    "openAI_dataset.to_csv(\"responses.csv\", index=False)\n",
    "\n"
   ]
  }
 ],
 "metadata": {
  "kernelspec": {
   "display_name": "Python 3",
   "language": "python",
   "name": "python3"
  },
  "language_info": {
   "codemirror_mode": {
    "name": "ipython",
    "version": 3
   },
   "file_extension": ".py",
   "mimetype": "text/x-python",
   "name": "python",
   "nbconvert_exporter": "python",
   "pygments_lexer": "ipython3",
   "version": "3.13.0rc2"
  }
 },
 "nbformat": 4,
 "nbformat_minor": 5
}
